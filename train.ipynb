{
  "cells": [
    {
      "cell_type": "code",
      "execution_count": null,
      "metadata": {
        "id": "JE0n3V03nkzM"
      },
      "outputs": [],
      "source": [
        "from google.colab import drive\n",
        "drive.mount('/content/drive')"
      ]
    },
    {
      "cell_type": "code",
      "execution_count": null,
      "metadata": {
        "id": "5dsalVI6n3Vv"
      },
      "outputs": [],
      "source": [
        "!pip install --find-links https://download.pytorch.org/whl/torch_stable.html wandb einops>=0.4 vector-quantize-pytorch>=0.10.15 librosa==0.10.0 torchlibrosa==0.1.0 ftfy tqdm transformers encodec==0.1.1 gdown accelerate>=0.24.0 beartype joblib h5py scikit-learn wget"
      ]
    },
    {
      "cell_type": "code",
      "execution_count": null,
      "metadata": {
        "id": "3zUcKU8Cp-gb"
      },
      "outputs": [],
      "source": [
        "!python3 /content/drive/MyDrive/my_code/mymusiclm/my-open-musiclm-main/explorer/semcoarsetosem_train.py"
      ]
    }
  ],
  "metadata": {
    "accelerator": "GPU",
    "colab": {
      "gpuType": "A100",
      "machine_shape": "hm",
      "provenance": []
    },
    "kernelspec": {
      "display_name": "Python 3",
      "name": "python3"
    },
    "language_info": {
      "name": "python"
    }
  },
  "nbformat": 4,
  "nbformat_minor": 0
}